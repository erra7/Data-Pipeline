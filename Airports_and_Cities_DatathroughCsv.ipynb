{
 "cells": [
  {
   "cell_type": "markdown",
   "id": "d83244f5-c9d5-40d1-a7e2-b2f6fa5d3972",
   "metadata": {},
   "source": [
    "## Airports and Cities Data"
   ]
  },
  {
   "cell_type": "code",
   "execution_count": 1,
   "id": "c1441f94-7471-41a5-ae86-29ebbeb56b23",
   "metadata": {},
   "outputs": [
    {
     "data": {
      "text/html": [
       "<div>\n",
       "<style scoped>\n",
       "    .dataframe tbody tr th:only-of-type {\n",
       "        vertical-align: middle;\n",
       "    }\n",
       "\n",
       "    .dataframe tbody tr th {\n",
       "        vertical-align: top;\n",
       "    }\n",
       "\n",
       "    .dataframe thead th {\n",
       "        text-align: right;\n",
       "    }\n",
       "</style>\n",
       "<table border=\"1\" class=\"dataframe\">\n",
       "  <thead>\n",
       "    <tr style=\"text-align: right;\">\n",
       "      <th></th>\n",
       "      <th>name</th>\n",
       "      <th>latitude_deg</th>\n",
       "      <th>longitude_deg</th>\n",
       "      <th>iso_country</th>\n",
       "      <th>iso_region</th>\n",
       "      <th>municipality</th>\n",
       "      <th>icao_code</th>\n",
       "      <th>iata_code</th>\n",
       "      <th>municipality_iso_country</th>\n",
       "    </tr>\n",
       "  </thead>\n",
       "  <tbody>\n",
       "    <tr>\n",
       "      <th>10890</th>\n",
       "      <td>Honiara International Airport</td>\n",
       "      <td>-9.428000</td>\n",
       "      <td>160.054993</td>\n",
       "      <td>SB</td>\n",
       "      <td>SB-CT</td>\n",
       "      <td>Honiara</td>\n",
       "      <td>AGGH</td>\n",
       "      <td>HIR</td>\n",
       "      <td>Honiara,SB</td>\n",
       "    </tr>\n",
       "    <tr>\n",
       "      <th>12461</th>\n",
       "      <td>Port Moresby Jacksons International Airport</td>\n",
       "      <td>-9.443380</td>\n",
       "      <td>147.220001</td>\n",
       "      <td>PG</td>\n",
       "      <td>PG-NCD</td>\n",
       "      <td>Port Moresby</td>\n",
       "      <td>AYPY</td>\n",
       "      <td>POM</td>\n",
       "      <td>Port Moresby,PG</td>\n",
       "    </tr>\n",
       "    <tr>\n",
       "      <th>12981</th>\n",
       "      <td>Keflavik International Airport</td>\n",
       "      <td>63.985001</td>\n",
       "      <td>-22.605600</td>\n",
       "      <td>IS</td>\n",
       "      <td>IS-2</td>\n",
       "      <td>Reykjavík</td>\n",
       "      <td>BIKF</td>\n",
       "      <td>KEF</td>\n",
       "      <td>Reykjavík,IS</td>\n",
       "    </tr>\n",
       "    <tr>\n",
       "      <th>13028</th>\n",
       "      <td>Priština Adem Jashari International Airport</td>\n",
       "      <td>42.572800</td>\n",
       "      <td>21.035801</td>\n",
       "      <td>XK</td>\n",
       "      <td>XK-01</td>\n",
       "      <td>Prishtina</td>\n",
       "      <td>BKPR</td>\n",
       "      <td>PRN</td>\n",
       "      <td>Prishtina,XK</td>\n",
       "    </tr>\n",
       "    <tr>\n",
       "      <th>17254</th>\n",
       "      <td>Guodu Air Base</td>\n",
       "      <td>36.001741</td>\n",
       "      <td>117.632010</td>\n",
       "      <td>CN</td>\n",
       "      <td>CN-37</td>\n",
       "      <td>Xintai, Tai'an</td>\n",
       "      <td>NaN</td>\n",
       "      <td>NaN</td>\n",
       "      <td>Xintai, Tai'an,CN</td>\n",
       "    </tr>\n",
       "  </tbody>\n",
       "</table>\n",
       "</div>"
      ],
      "text/plain": [
       "                                              name  latitude_deg  \\\n",
       "10890                Honiara International Airport     -9.428000   \n",
       "12461  Port Moresby Jacksons International Airport     -9.443380   \n",
       "12981               Keflavik International Airport     63.985001   \n",
       "13028  Priština Adem Jashari International Airport     42.572800   \n",
       "17254                               Guodu Air Base     36.001741   \n",
       "\n",
       "       longitude_deg iso_country iso_region    municipality icao_code  \\\n",
       "10890     160.054993          SB      SB-CT         Honiara      AGGH   \n",
       "12461     147.220001          PG     PG-NCD    Port Moresby      AYPY   \n",
       "12981     -22.605600          IS       IS-2       Reykjavík      BIKF   \n",
       "13028      21.035801          XK      XK-01       Prishtina      BKPR   \n",
       "17254     117.632010          CN      CN-37  Xintai, Tai'an       NaN   \n",
       "\n",
       "      iata_code municipality_iso_country  \n",
       "10890       HIR               Honiara,SB  \n",
       "12461       POM          Port Moresby,PG  \n",
       "12981       KEF             Reykjavík,IS  \n",
       "13028       PRN             Prishtina,XK  \n",
       "17254       NaN        Xintai, Tai'an,CN  "
      ]
     },
     "execution_count": 1,
     "metadata": {},
     "output_type": "execute_result"
    }
   ],
   "source": [
    "# Airports\n",
    "\n",
    "import pandas as pd\n",
    "\n",
    "airports= (\n",
    "pd.read_csv('airports.csv')\n",
    "    .query('type == \"large_airport\"')\n",
    "    .filter(['name','latitude_deg','longitude_deg','iso_country','iso_region','municipality','gps_code','iata_code'])\n",
    "    .rename(columns={'gps_code':'icao_code'})\n",
    "    .assign(municipality_iso_country = lambda x: x['municipality'] + ',' + x['iso_country'])\n",
    ")\n",
    "airports.head()"
   ]
  },
  {
   "cell_type": "code",
   "execution_count": 2,
   "id": "e2777c3c-d126-4db2-ab33-2debc8bc09e1",
   "metadata": {},
   "outputs": [
    {
     "data": {
      "text/html": [
       "<div>\n",
       "<style scoped>\n",
       "    .dataframe tbody tr th:only-of-type {\n",
       "        vertical-align: middle;\n",
       "    }\n",
       "\n",
       "    .dataframe tbody tr th {\n",
       "        vertical-align: top;\n",
       "    }\n",
       "\n",
       "    .dataframe thead th {\n",
       "        text-align: right;\n",
       "    }\n",
       "</style>\n",
       "<table border=\"1\" class=\"dataframe\">\n",
       "  <thead>\n",
       "    <tr style=\"text-align: right;\">\n",
       "      <th></th>\n",
       "      <th>municipality</th>\n",
       "      <th>iso_country</th>\n",
       "      <th>municipality_iso_country</th>\n",
       "    </tr>\n",
       "  </thead>\n",
       "  <tbody>\n",
       "    <tr>\n",
       "      <th>10890</th>\n",
       "      <td>Honiara</td>\n",
       "      <td>SB</td>\n",
       "      <td>Honiara,SB</td>\n",
       "    </tr>\n",
       "    <tr>\n",
       "      <th>12461</th>\n",
       "      <td>Port Moresby</td>\n",
       "      <td>PG</td>\n",
       "      <td>Port Moresby,PG</td>\n",
       "    </tr>\n",
       "    <tr>\n",
       "      <th>12981</th>\n",
       "      <td>Reykjavík</td>\n",
       "      <td>IS</td>\n",
       "      <td>Reykjavík,IS</td>\n",
       "    </tr>\n",
       "    <tr>\n",
       "      <th>13028</th>\n",
       "      <td>Prishtina</td>\n",
       "      <td>XK</td>\n",
       "      <td>Prishtina,XK</td>\n",
       "    </tr>\n",
       "    <tr>\n",
       "      <th>17254</th>\n",
       "      <td>Xintai, Tai'an</td>\n",
       "      <td>CN</td>\n",
       "      <td>Xintai, Tai'an,CN</td>\n",
       "    </tr>\n",
       "  </tbody>\n",
       "</table>\n",
       "</div>"
      ],
      "text/plain": [
       "         municipality iso_country municipality_iso_country\n",
       "10890         Honiara          SB               Honiara,SB\n",
       "12461    Port Moresby          PG          Port Moresby,PG\n",
       "12981       Reykjavík          IS             Reykjavík,IS\n",
       "13028       Prishtina          XK             Prishtina,XK\n",
       "17254  Xintai, Tai'an          CN        Xintai, Tai'an,CN"
      ]
     },
     "execution_count": 2,
     "metadata": {},
     "output_type": "execute_result"
    }
   ],
   "source": [
    "# Cities Data from airport Csv\n",
    "\n",
    "cities = airports.filter(['municipality','iso_country','municipality_iso_country']).drop_duplicates()\n",
    "cities.head()"
   ]
  },
  {
   "cell_type": "markdown",
   "id": "395fad0c-1f53-48a3-82e0-480caf78eada",
   "metadata": {},
   "source": [
    "## Update data into database"
   ]
  },
  {
   "cell_type": "markdown",
   "id": "176b51fd-c3f3-481e-b773-a7d7a9dcda1c",
   "metadata": {},
   "source": [
    "#### Establish the connection"
   ]
  },
  {
   "cell_type": "code",
   "execution_count": 3,
   "id": "99f94a32-742e-402d-bad8-431ef13c49e3",
   "metadata": {},
   "outputs": [
    {
     "name": "stdout",
     "output_type": "stream",
     "text": [
      "Requirement already satisfied: SQLAlchemy in c:\\users\\atlab\\anaconda3\\lib\\site-packages (1.4.22)\n",
      "Requirement already satisfied: greenlet!=0.4.17 in c:\\users\\atlab\\anaconda3\\lib\\site-packages (from SQLAlchemy) (1.1.1)\n",
      "Note: you may need to restart the kernel to use updated packages.\n"
     ]
    }
   ],
   "source": [
    "pip install SQLAlchemy"
   ]
  },
  {
   "cell_type": "code",
   "execution_count": 4,
   "id": "e31bff24-41aa-453c-a1f8-eaaf6bb21b63",
   "metadata": {},
   "outputs": [
    {
     "name": "stdout",
     "output_type": "stream",
     "text": [
      "Requirement already satisfied: PyMySQL in c:\\users\\atlab\\anaconda3\\lib\\site-packages (1.0.2)\n",
      "Note: you may need to restart the kernel to use updated packages.\n"
     ]
    }
   ],
   "source": [
    "pip install PyMySQL"
   ]
  },
  {
   "cell_type": "markdown",
   "id": "c0f477a4-c9e4-4ec5-8fb5-553c9f7faac3",
   "metadata": {},
   "source": [
    "#### Update data in AWS DATABASE Instance"
   ]
  },
  {
   "cell_type": "code",
   "execution_count": 5,
   "id": "b547b56b-08b5-4cc9-aa6a-ccdec15a0c98",
   "metadata": {},
   "outputs": [],
   "source": [
    "# Moving airport data to AWS Database\n",
    "\n",
    "import sqlalchemy\n",
    "import pymysql\n",
    "\n",
    "#pd.read_csv('airports.csv', index_col = [0])\n",
    "schema=\"gans\"\n",
    "host=\"your host name\"\n",
    "user=\"your username\"\n",
    "password=\"your password\"\n",
    "port=3306\n",
    "con = f'mysql+pymysql://{user}:{password}@{host}:{port}/{schema}'\n",
    "\n",
    "(\n",
    " airports.dropna().to_sql('airports', if_exists='append', con=con, index=False)\n",
    ")"
   ]
  },
  {
   "cell_type": "code",
   "execution_count": 6,
   "id": "1bfe390a-aedc-49a9-8d6c-1041d5add737",
   "metadata": {},
   "outputs": [],
   "source": [
    "# Moving cities data to AWS Database\n",
    "\n",
    "schema=\"gans\"\n",
    "host=\"your host name\"\n",
    "user=\"your username\"\n",
    "password=\"your password\"\n",
    "port=3306\n",
    "con = f'mysql+pymysql://{user}:{password}@{host}:{port}/{schema}'\n",
    "\n",
    "(\n",
    " cities.dropna().to_sql('cities', con=con, if_exists='append', index=False)\n",
    ")"
   ]
  }
 ],
 "metadata": {
  "kernelspec": {
   "display_name": "Python 3 (ipykernel)",
   "language": "python",
   "name": "python3"
  },
  "language_info": {
   "codemirror_mode": {
    "name": "ipython",
    "version": 3
   },
   "file_extension": ".py",
   "mimetype": "text/x-python",
   "name": "python",
   "nbconvert_exporter": "python",
   "pygments_lexer": "ipython3",
   "version": "3.9.7"
  }
 },
 "nbformat": 4,
 "nbformat_minor": 5
}
